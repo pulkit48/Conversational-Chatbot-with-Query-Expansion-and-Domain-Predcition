{
  "metadata": {
    "colab": {
      "provenance": [],
      "gpuType": "T4",
      "name": "Query_Expansion",
      "include_colab_link": true
    },
    "kernelspec": {
      "name": "python3",
      "display_name": "Python 3",
      "language": "python"
    },
    "language_info": {
      "name": "python",
      "version": "3.10.13",
      "mimetype": "text/x-python",
      "codemirror_mode": {
        "name": "ipython",
        "version": 3
      },
      "pygments_lexer": "ipython3",
      "nbconvert_exporter": "python",
      "file_extension": ".py"
    },
    "accelerator": "GPU",
    "widgets": {
      "application/vnd.jupyter.widget-state+json": {
        "0061f3f2d72f42c88e3c2e6acdb9f2e7": {
          "model_module": "@jupyter-widgets/controls",
          "model_name": "HBoxModel",
          "model_module_version": "1.5.0",
          "state": {
            "_dom_classes": [],
            "_model_module": "@jupyter-widgets/controls",
            "_model_module_version": "1.5.0",
            "_model_name": "HBoxModel",
            "_view_count": null,
            "_view_module": "@jupyter-widgets/controls",
            "_view_module_version": "1.5.0",
            "_view_name": "HBoxView",
            "box_style": "",
            "children": [
              "IPY_MODEL_9a5190c29ad545a9bf87de3c9e6bf17f",
              "IPY_MODEL_1a8ef02ef64544e89a2860fcf2a036a1",
              "IPY_MODEL_e05bb6393bd745b2b35ab693a3bbd1a4"
            ],
            "layout": "IPY_MODEL_aca72f8ec5b644b4bc5f6b7d2a46251d"
          }
        },
        "9a5190c29ad545a9bf87de3c9e6bf17f": {
          "model_module": "@jupyter-widgets/controls",
          "model_name": "HTMLModel",
          "model_module_version": "1.5.0",
          "state": {
            "_dom_classes": [],
            "_model_module": "@jupyter-widgets/controls",
            "_model_module_version": "1.5.0",
            "_model_name": "HTMLModel",
            "_view_count": null,
            "_view_module": "@jupyter-widgets/controls",
            "_view_module_version": "1.5.0",
            "_view_name": "HTMLView",
            "description": "",
            "description_tooltip": null,
            "layout": "IPY_MODEL_a99de9b44f8b4d11963b639e884d5169",
            "placeholder": "​",
            "style": "IPY_MODEL_4283db58af32414fb0718fb7311b4c44",
            "value": "Loading checkpoint shards: 100%"
          }
        },
        "1a8ef02ef64544e89a2860fcf2a036a1": {
          "model_module": "@jupyter-widgets/controls",
          "model_name": "FloatProgressModel",
          "model_module_version": "1.5.0",
          "state": {
            "_dom_classes": [],
            "_model_module": "@jupyter-widgets/controls",
            "_model_module_version": "1.5.0",
            "_model_name": "FloatProgressModel",
            "_view_count": null,
            "_view_module": "@jupyter-widgets/controls",
            "_view_module_version": "1.5.0",
            "_view_name": "ProgressView",
            "bar_style": "success",
            "description": "",
            "description_tooltip": null,
            "layout": "IPY_MODEL_bed7532e6aa84bbeb1093894bb0e2b45",
            "max": 2,
            "min": 0,
            "orientation": "horizontal",
            "style": "IPY_MODEL_c30c6ea7f49e460b921bae2ec2f3ef70",
            "value": 2
          }
        },
        "e05bb6393bd745b2b35ab693a3bbd1a4": {
          "model_module": "@jupyter-widgets/controls",
          "model_name": "HTMLModel",
          "model_module_version": "1.5.0",
          "state": {
            "_dom_classes": [],
            "_model_module": "@jupyter-widgets/controls",
            "_model_module_version": "1.5.0",
            "_model_name": "HTMLModel",
            "_view_count": null,
            "_view_module": "@jupyter-widgets/controls",
            "_view_module_version": "1.5.0",
            "_view_name": "HTMLView",
            "description": "",
            "description_tooltip": null,
            "layout": "IPY_MODEL_ddb327af16114daa8782f32133750029",
            "placeholder": "​",
            "style": "IPY_MODEL_1826c43170a74b1facdf6a06ca07723c",
            "value": " 2/2 [00:59&lt;00:00, 27.06s/it]"
          }
        },
        "aca72f8ec5b644b4bc5f6b7d2a46251d": {
          "model_module": "@jupyter-widgets/base",
          "model_name": "LayoutModel",
          "model_module_version": "1.2.0",
          "state": {
            "_model_module": "@jupyter-widgets/base",
            "_model_module_version": "1.2.0",
            "_model_name": "LayoutModel",
            "_view_count": null,
            "_view_module": "@jupyter-widgets/base",
            "_view_module_version": "1.2.0",
            "_view_name": "LayoutView",
            "align_content": null,
            "align_items": null,
            "align_self": null,
            "border": null,
            "bottom": null,
            "display": null,
            "flex": null,
            "flex_flow": null,
            "grid_area": null,
            "grid_auto_columns": null,
            "grid_auto_flow": null,
            "grid_auto_rows": null,
            "grid_column": null,
            "grid_gap": null,
            "grid_row": null,
            "grid_template_areas": null,
            "grid_template_columns": null,
            "grid_template_rows": null,
            "height": null,
            "justify_content": null,
            "justify_items": null,
            "left": null,
            "margin": null,
            "max_height": null,
            "max_width": null,
            "min_height": null,
            "min_width": null,
            "object_fit": null,
            "object_position": null,
            "order": null,
            "overflow": null,
            "overflow_x": null,
            "overflow_y": null,
            "padding": null,
            "right": null,
            "top": null,
            "visibility": null,
            "width": null
          }
        },
        "a99de9b44f8b4d11963b639e884d5169": {
          "model_module": "@jupyter-widgets/base",
          "model_name": "LayoutModel",
          "model_module_version": "1.2.0",
          "state": {
            "_model_module": "@jupyter-widgets/base",
            "_model_module_version": "1.2.0",
            "_model_name": "LayoutModel",
            "_view_count": null,
            "_view_module": "@jupyter-widgets/base",
            "_view_module_version": "1.2.0",
            "_view_name": "LayoutView",
            "align_content": null,
            "align_items": null,
            "align_self": null,
            "border": null,
            "bottom": null,
            "display": null,
            "flex": null,
            "flex_flow": null,
            "grid_area": null,
            "grid_auto_columns": null,
            "grid_auto_flow": null,
            "grid_auto_rows": null,
            "grid_column": null,
            "grid_gap": null,
            "grid_row": null,
            "grid_template_areas": null,
            "grid_template_columns": null,
            "grid_template_rows": null,
            "height": null,
            "justify_content": null,
            "justify_items": null,
            "left": null,
            "margin": null,
            "max_height": null,
            "max_width": null,
            "min_height": null,
            "min_width": null,
            "object_fit": null,
            "object_position": null,
            "order": null,
            "overflow": null,
            "overflow_x": null,
            "overflow_y": null,
            "padding": null,
            "right": null,
            "top": null,
            "visibility": null,
            "width": null
          }
        },
        "4283db58af32414fb0718fb7311b4c44": {
          "model_module": "@jupyter-widgets/controls",
          "model_name": "DescriptionStyleModel",
          "model_module_version": "1.5.0",
          "state": {
            "_model_module": "@jupyter-widgets/controls",
            "_model_module_version": "1.5.0",
            "_model_name": "DescriptionStyleModel",
            "_view_count": null,
            "_view_module": "@jupyter-widgets/base",
            "_view_module_version": "1.2.0",
            "_view_name": "StyleView",
            "description_width": ""
          }
        },
        "bed7532e6aa84bbeb1093894bb0e2b45": {
          "model_module": "@jupyter-widgets/base",
          "model_name": "LayoutModel",
          "model_module_version": "1.2.0",
          "state": {
            "_model_module": "@jupyter-widgets/base",
            "_model_module_version": "1.2.0",
            "_model_name": "LayoutModel",
            "_view_count": null,
            "_view_module": "@jupyter-widgets/base",
            "_view_module_version": "1.2.0",
            "_view_name": "LayoutView",
            "align_content": null,
            "align_items": null,
            "align_self": null,
            "border": null,
            "bottom": null,
            "display": null,
            "flex": null,
            "flex_flow": null,
            "grid_area": null,
            "grid_auto_columns": null,
            "grid_auto_flow": null,
            "grid_auto_rows": null,
            "grid_column": null,
            "grid_gap": null,
            "grid_row": null,
            "grid_template_areas": null,
            "grid_template_columns": null,
            "grid_template_rows": null,
            "height": null,
            "justify_content": null,
            "justify_items": null,
            "left": null,
            "margin": null,
            "max_height": null,
            "max_width": null,
            "min_height": null,
            "min_width": null,
            "object_fit": null,
            "object_position": null,
            "order": null,
            "overflow": null,
            "overflow_x": null,
            "overflow_y": null,
            "padding": null,
            "right": null,
            "top": null,
            "visibility": null,
            "width": null
          }
        },
        "c30c6ea7f49e460b921bae2ec2f3ef70": {
          "model_module": "@jupyter-widgets/controls",
          "model_name": "ProgressStyleModel",
          "model_module_version": "1.5.0",
          "state": {
            "_model_module": "@jupyter-widgets/controls",
            "_model_module_version": "1.5.0",
            "_model_name": "ProgressStyleModel",
            "_view_count": null,
            "_view_module": "@jupyter-widgets/base",
            "_view_module_version": "1.2.0",
            "_view_name": "StyleView",
            "bar_color": null,
            "description_width": ""
          }
        },
        "ddb327af16114daa8782f32133750029": {
          "model_module": "@jupyter-widgets/base",
          "model_name": "LayoutModel",
          "model_module_version": "1.2.0",
          "state": {
            "_model_module": "@jupyter-widgets/base",
            "_model_module_version": "1.2.0",
            "_model_name": "LayoutModel",
            "_view_count": null,
            "_view_module": "@jupyter-widgets/base",
            "_view_module_version": "1.2.0",
            "_view_name": "LayoutView",
            "align_content": null,
            "align_items": null,
            "align_self": null,
            "border": null,
            "bottom": null,
            "display": null,
            "flex": null,
            "flex_flow": null,
            "grid_area": null,
            "grid_auto_columns": null,
            "grid_auto_flow": null,
            "grid_auto_rows": null,
            "grid_column": null,
            "grid_gap": null,
            "grid_row": null,
            "grid_template_areas": null,
            "grid_template_columns": null,
            "grid_template_rows": null,
            "height": null,
            "justify_content": null,
            "justify_items": null,
            "left": null,
            "margin": null,
            "max_height": null,
            "max_width": null,
            "min_height": null,
            "min_width": null,
            "object_fit": null,
            "object_position": null,
            "order": null,
            "overflow": null,
            "overflow_x": null,
            "overflow_y": null,
            "padding": null,
            "right": null,
            "top": null,
            "visibility": null,
            "width": null
          }
        },
        "1826c43170a74b1facdf6a06ca07723c": {
          "model_module": "@jupyter-widgets/controls",
          "model_name": "DescriptionStyleModel",
          "model_module_version": "1.5.0",
          "state": {
            "_model_module": "@jupyter-widgets/controls",
            "_model_module_version": "1.5.0",
            "_model_name": "DescriptionStyleModel",
            "_view_count": null,
            "_view_module": "@jupyter-widgets/base",
            "_view_module_version": "1.2.0",
            "_view_name": "StyleView",
            "description_width": ""
          }
        },
        "dd2606cda51341c5b9abdeeb81f5b05e": {
          "model_module": "@jupyter-widgets/controls",
          "model_name": "HBoxModel",
          "model_module_version": "1.5.0",
          "state": {
            "_dom_classes": [],
            "_model_module": "@jupyter-widgets/controls",
            "_model_module_version": "1.5.0",
            "_model_name": "HBoxModel",
            "_view_count": null,
            "_view_module": "@jupyter-widgets/controls",
            "_view_module_version": "1.5.0",
            "_view_name": "HBoxView",
            "box_style": "",
            "children": [
              "IPY_MODEL_2c44f5c2158343a58e4a93fe35985b37",
              "IPY_MODEL_1d558b4e0f3441b6950d002419eac5a0",
              "IPY_MODEL_b2304ed8351848b1b41570a2c4e0d182"
            ],
            "layout": "IPY_MODEL_43323b14c21d40bcbf93cd1a73c5880c"
          }
        },
        "2c44f5c2158343a58e4a93fe35985b37": {
          "model_module": "@jupyter-widgets/controls",
          "model_name": "HTMLModel",
          "model_module_version": "1.5.0",
          "state": {
            "_dom_classes": [],
            "_model_module": "@jupyter-widgets/controls",
            "_model_module_version": "1.5.0",
            "_model_name": "HTMLModel",
            "_view_count": null,
            "_view_module": "@jupyter-widgets/controls",
            "_view_module_version": "1.5.0",
            "_view_name": "HTMLView",
            "description": "",
            "description_tooltip": null,
            "layout": "IPY_MODEL_d0c0af2385ff4644b08c65f687125f53",
            "placeholder": "​",
            "style": "IPY_MODEL_77eae96ebc3e490ba6410876749c8a1d",
            "value": "Map: 100%"
          }
        },
        "1d558b4e0f3441b6950d002419eac5a0": {
          "model_module": "@jupyter-widgets/controls",
          "model_name": "FloatProgressModel",
          "model_module_version": "1.5.0",
          "state": {
            "_dom_classes": [],
            "_model_module": "@jupyter-widgets/controls",
            "_model_module_version": "1.5.0",
            "_model_name": "FloatProgressModel",
            "_view_count": null,
            "_view_module": "@jupyter-widgets/controls",
            "_view_module_version": "1.5.0",
            "_view_name": "ProgressView",
            "bar_style": "success",
            "description": "",
            "description_tooltip": null,
            "layout": "IPY_MODEL_db9216a0f7a34a608a6e6047b916cab2",
            "max": 800,
            "min": 0,
            "orientation": "horizontal",
            "style": "IPY_MODEL_2cdabc92dbe74733a8c1427b7ed677ca",
            "value": 800
          }
        },
        "b2304ed8351848b1b41570a2c4e0d182": {
          "model_module": "@jupyter-widgets/controls",
          "model_name": "HTMLModel",
          "model_module_version": "1.5.0",
          "state": {
            "_dom_classes": [],
            "_model_module": "@jupyter-widgets/controls",
            "_model_module_version": "1.5.0",
            "_model_name": "HTMLModel",
            "_view_count": null,
            "_view_module": "@jupyter-widgets/controls",
            "_view_module_version": "1.5.0",
            "_view_name": "HTMLView",
            "description": "",
            "description_tooltip": null,
            "layout": "IPY_MODEL_23655ed1704d4a08a711aa6e46a5fc0b",
            "placeholder": "​",
            "style": "IPY_MODEL_29f8568bdcd847629d1f948fefab04ba",
            "value": " 800/800 [00:00&lt;00:00, 898.82 examples/s]"
          }
        },
        "43323b14c21d40bcbf93cd1a73c5880c": {
          "model_module": "@jupyter-widgets/base",
          "model_name": "LayoutModel",
          "model_module_version": "1.2.0",
          "state": {
            "_model_module": "@jupyter-widgets/base",
            "_model_module_version": "1.2.0",
            "_model_name": "LayoutModel",
            "_view_count": null,
            "_view_module": "@jupyter-widgets/base",
            "_view_module_version": "1.2.0",
            "_view_name": "LayoutView",
            "align_content": null,
            "align_items": null,
            "align_self": null,
            "border": null,
            "bottom": null,
            "display": null,
            "flex": null,
            "flex_flow": null,
            "grid_area": null,
            "grid_auto_columns": null,
            "grid_auto_flow": null,
            "grid_auto_rows": null,
            "grid_column": null,
            "grid_gap": null,
            "grid_row": null,
            "grid_template_areas": null,
            "grid_template_columns": null,
            "grid_template_rows": null,
            "height": null,
            "justify_content": null,
            "justify_items": null,
            "left": null,
            "margin": null,
            "max_height": null,
            "max_width": null,
            "min_height": null,
            "min_width": null,
            "object_fit": null,
            "object_position": null,
            "order": null,
            "overflow": null,
            "overflow_x": null,
            "overflow_y": null,
            "padding": null,
            "right": null,
            "top": null,
            "visibility": null,
            "width": null
          }
        },
        "d0c0af2385ff4644b08c65f687125f53": {
          "model_module": "@jupyter-widgets/base",
          "model_name": "LayoutModel",
          "model_module_version": "1.2.0",
          "state": {
            "_model_module": "@jupyter-widgets/base",
            "_model_module_version": "1.2.0",
            "_model_name": "LayoutModel",
            "_view_count": null,
            "_view_module": "@jupyter-widgets/base",
            "_view_module_version": "1.2.0",
            "_view_name": "LayoutView",
            "align_content": null,
            "align_items": null,
            "align_self": null,
            "border": null,
            "bottom": null,
            "display": null,
            "flex": null,
            "flex_flow": null,
            "grid_area": null,
            "grid_auto_columns": null,
            "grid_auto_flow": null,
            "grid_auto_rows": null,
            "grid_column": null,
            "grid_gap": null,
            "grid_row": null,
            "grid_template_areas": null,
            "grid_template_columns": null,
            "grid_template_rows": null,
            "height": null,
            "justify_content": null,
            "justify_items": null,
            "left": null,
            "margin": null,
            "max_height": null,
            "max_width": null,
            "min_height": null,
            "min_width": null,
            "object_fit": null,
            "object_position": null,
            "order": null,
            "overflow": null,
            "overflow_x": null,
            "overflow_y": null,
            "padding": null,
            "right": null,
            "top": null,
            "visibility": null,
            "width": null
          }
        },
        "77eae96ebc3e490ba6410876749c8a1d": {
          "model_module": "@jupyter-widgets/controls",
          "model_name": "DescriptionStyleModel",
          "model_module_version": "1.5.0",
          "state": {
            "_model_module": "@jupyter-widgets/controls",
            "_model_module_version": "1.5.0",
            "_model_name": "DescriptionStyleModel",
            "_view_count": null,
            "_view_module": "@jupyter-widgets/base",
            "_view_module_version": "1.2.0",
            "_view_name": "StyleView",
            "description_width": ""
          }
        },
        "db9216a0f7a34a608a6e6047b916cab2": {
          "model_module": "@jupyter-widgets/base",
          "model_name": "LayoutModel",
          "model_module_version": "1.2.0",
          "state": {
            "_model_module": "@jupyter-widgets/base",
            "_model_module_version": "1.2.0",
            "_model_name": "LayoutModel",
            "_view_count": null,
            "_view_module": "@jupyter-widgets/base",
            "_view_module_version": "1.2.0",
            "_view_name": "LayoutView",
            "align_content": null,
            "align_items": null,
            "align_self": null,
            "border": null,
            "bottom": null,
            "display": null,
            "flex": null,
            "flex_flow": null,
            "grid_area": null,
            "grid_auto_columns": null,
            "grid_auto_flow": null,
            "grid_auto_rows": null,
            "grid_column": null,
            "grid_gap": null,
            "grid_row": null,
            "grid_template_areas": null,
            "grid_template_columns": null,
            "grid_template_rows": null,
            "height": null,
            "justify_content": null,
            "justify_items": null,
            "left": null,
            "margin": null,
            "max_height": null,
            "max_width": null,
            "min_height": null,
            "min_width": null,
            "object_fit": null,
            "object_position": null,
            "order": null,
            "overflow": null,
            "overflow_x": null,
            "overflow_y": null,
            "padding": null,
            "right": null,
            "top": null,
            "visibility": null,
            "width": null
          }
        },
        "2cdabc92dbe74733a8c1427b7ed677ca": {
          "model_module": "@jupyter-widgets/controls",
          "model_name": "ProgressStyleModel",
          "model_module_version": "1.5.0",
          "state": {
            "_model_module": "@jupyter-widgets/controls",
            "_model_module_version": "1.5.0",
            "_model_name": "ProgressStyleModel",
            "_view_count": null,
            "_view_module": "@jupyter-widgets/base",
            "_view_module_version": "1.2.0",
            "_view_name": "StyleView",
            "bar_color": null,
            "description_width": ""
          }
        },
        "23655ed1704d4a08a711aa6e46a5fc0b": {
          "model_module": "@jupyter-widgets/base",
          "model_name": "LayoutModel",
          "model_module_version": "1.2.0",
          "state": {
            "_model_module": "@jupyter-widgets/base",
            "_model_module_version": "1.2.0",
            "_model_name": "LayoutModel",
            "_view_count": null,
            "_view_module": "@jupyter-widgets/base",
            "_view_module_version": "1.2.0",
            "_view_name": "LayoutView",
            "align_content": null,
            "align_items": null,
            "align_self": null,
            "border": null,
            "bottom": null,
            "display": null,
            "flex": null,
            "flex_flow": null,
            "grid_area": null,
            "grid_auto_columns": null,
            "grid_auto_flow": null,
            "grid_auto_rows": null,
            "grid_column": null,
            "grid_gap": null,
            "grid_row": null,
            "grid_template_areas": null,
            "grid_template_columns": null,
            "grid_template_rows": null,
            "height": null,
            "justify_content": null,
            "justify_items": null,
            "left": null,
            "margin": null,
            "max_height": null,
            "max_width": null,
            "min_height": null,
            "min_width": null,
            "object_fit": null,
            "object_position": null,
            "order": null,
            "overflow": null,
            "overflow_x": null,
            "overflow_y": null,
            "padding": null,
            "right": null,
            "top": null,
            "visibility": null,
            "width": null
          }
        },
        "29f8568bdcd847629d1f948fefab04ba": {
          "model_module": "@jupyter-widgets/controls",
          "model_name": "DescriptionStyleModel",
          "model_module_version": "1.5.0",
          "state": {
            "_model_module": "@jupyter-widgets/controls",
            "_model_module_version": "1.5.0",
            "_model_name": "DescriptionStyleModel",
            "_view_count": null,
            "_view_module": "@jupyter-widgets/base",
            "_view_module_version": "1.2.0",
            "_view_name": "StyleView",
            "description_width": ""
          }
        }
      }
    },
    "kaggle": {
      "accelerator": "nvidiaTeslaT4",
      "dataSources": [],
      "dockerImageVersionId": 30699,
      "isInternetEnabled": true,
      "language": "python",
      "sourceType": "notebook",
      "isGpuEnabled": true
    }
  },
  "nbformat_minor": 0,
  "nbformat": 4,
  "cells": [
    {
      "cell_type": "markdown",
      "metadata": {
        "id": "view-in-github",
        "colab_type": "text"
      },
      "source": [
        "<a href=\"https://colab.research.google.com/github/pulkit48/Conversational-Chatbot-with-Query-Expansion-and-Domain-Predcition/blob/main/colab/Query_Expansion.ipynb\" target=\"_parent\"><img src=\"https://colab.research.google.com/assets/colab-badge.svg\" alt=\"Open In Colab\"/></a>"
      ]
    },
    {
      "cell_type": "raw",
      "source": [
        "!pip install -q accelerate==0.21.0 peft==0.4.0 bitsandbytes==0.40.2 transformers==4.31.0 trl==0.4.7"
      ],
      "metadata": {
        "id": "GLXwJqbjtPho",
        "outputId": "423ca04e-4374-42e7-f290-11de83aa2a94",
        "_kg_hide-output": true
      }
    },
    {
      "cell_type": "code",
      "source": [
        "!pip install torch\n",
        "import torch"
      ],
      "metadata": {
        "id": "0Hbs7gDEvIde",
        "outputId": "37ae5bc9-c21c-49c0-d553-179a40d1ece0",
        "colab": {
          "base_uri": "https://localhost:8080/"
        },
        "execution": {
          "iopub.status.busy": "2024-05-28T14:16:56.038163Z",
          "iopub.execute_input": "2024-05-28T14:16:56.038633Z",
          "iopub.status.idle": "2024-05-28T14:17:12.324846Z",
          "shell.execute_reply.started": "2024-05-28T14:16:56.038596Z",
          "shell.execute_reply": "2024-05-28T14:17:12.324027Z"
        },
        "trusted": true
      },
      "execution_count": null,
      "outputs": [
        {
          "name": "stdout",
          "text": "Requirement already satisfied: torch in /opt/conda/lib/python3.10/site-packages (2.1.2)\nRequirement already satisfied: filelock in /opt/conda/lib/python3.10/site-packages (from torch) (3.13.1)\nRequirement already satisfied: typing-extensions in /opt/conda/lib/python3.10/site-packages (from torch) (4.9.0)\nRequirement already satisfied: sympy in /opt/conda/lib/python3.10/site-packages (from torch) (1.12)\nRequirement already satisfied: networkx in /opt/conda/lib/python3.10/site-packages (from torch) (3.2.1)\nRequirement already satisfied: jinja2 in /opt/conda/lib/python3.10/site-packages (from torch) (3.1.2)\nRequirement already satisfied: fsspec in /opt/conda/lib/python3.10/site-packages (from torch) (2024.2.0)\nRequirement already satisfied: MarkupSafe>=2.0 in /opt/conda/lib/python3.10/site-packages (from jinja2->torch) (2.1.3)\nRequirement already satisfied: mpmath>=0.19 in /opt/conda/lib/python3.10/site-packages (from sympy->torch) (1.3.0)\n",
          "output_type": "stream"
        }
      ]
    },
    {
      "cell_type": "code",
      "source": [
        "torch.cuda.empty_cache()"
      ],
      "metadata": {
        "id": "aek_Dd3fDlua",
        "execution": {
          "iopub.status.busy": "2024-05-28T14:17:12.326104Z",
          "iopub.execute_input": "2024-05-28T14:17:12.326567Z",
          "iopub.status.idle": "2024-05-28T14:17:12.330952Z",
          "shell.execute_reply.started": "2024-05-28T14:17:12.326534Z",
          "shell.execute_reply": "2024-05-28T14:17:12.330086Z"
        },
        "trusted": true
      },
      "execution_count": null,
      "outputs": []
    },
    {
      "cell_type": "code",
      "source": [
        "import os\n",
        "import torch\n",
        "from datasets import load_dataset\n",
        "from transformers import (\n",
        "    AutoModelForCausalLM,\n",
        "    AutoTokenizer,\n",
        "    BitsAndBytesConfig,\n",
        "    HfArgumentParser,\n",
        "    TrainingArguments,\n",
        "    pipeline,\n",
        "    logging,\n",
        ")\n",
        "from peft import LoraConfig, PeftModel\n",
        "from trl import SFTTrainer"
      ],
      "metadata": {
        "id": "nAMzy_0FtaUZ",
        "execution": {
          "iopub.status.busy": "2024-05-28T14:17:12.333424Z",
          "iopub.execute_input": "2024-05-28T14:17:12.333821Z",
          "iopub.status.idle": "2024-05-28T14:17:31.439239Z",
          "shell.execute_reply.started": "2024-05-28T14:17:12.333791Z",
          "shell.execute_reply": "2024-05-28T14:17:31.438411Z"
        },
        "trusted": true,
        "outputId": "d6b9cd1b-46b7-49a4-ed5c-7452a4b635eb"
      },
      "execution_count": null,
      "outputs": [
        {
          "name": "stderr",
          "text": "2024-05-28 14:17:17.753582: E external/local_xla/xla/stream_executor/cuda/cuda_dnn.cc:9261] Unable to register cuDNN factory: Attempting to register factory for plugin cuDNN when one has already been registered\n2024-05-28 14:17:17.753717: E external/local_xla/xla/stream_executor/cuda/cuda_fft.cc:607] Unable to register cuFFT factory: Attempting to register factory for plugin cuFFT when one has already been registered\n2024-05-28 14:17:17.926047: E external/local_xla/xla/stream_executor/cuda/cuda_blas.cc:1515] Unable to register cuBLAS factory: Attempting to register factory for plugin cuBLAS when one has already been registered\n",
          "output_type": "stream"
        }
      ]
    },
    {
      "cell_type": "code",
      "source": [
        "model_name = \"NousResearch/Llama-2-7b-chat-hf\"\n",
        "new_model = \"Llama-2-7b-chat-finetune\"\n",
        "\n",
        "import pandas as pd\n",
        "#https://drive.google.com/file/d/1VdCTB65pUVaIcW4D52TE83cVuDvIfRCY/view?usp=sharing\n",
        "file_id=\"1VdCTB65pUVaIcW4D52TE83cVuDvIfRCY\"\n",
        "download_link = f\"https://drive.google.com/uc?id={file_id}\"\n",
        "\n",
        "df = pd.read_csv(download_link)"
      ],
      "metadata": {
        "id": "Q38imv6bfj6F",
        "execution": {
          "iopub.status.busy": "2024-05-28T14:17:31.440467Z",
          "iopub.execute_input": "2024-05-28T14:17:31.440776Z",
          "iopub.status.idle": "2024-05-28T14:17:35.721309Z",
          "shell.execute_reply.started": "2024-05-28T14:17:31.440749Z",
          "shell.execute_reply": "2024-05-28T14:17:35.720198Z"
        },
        "trusted": true
      },
      "execution_count": null,
      "outputs": []
    },
    {
      "cell_type": "code",
      "source": [
        "df.head()"
      ],
      "metadata": {
        "id": "nrFtrPdgvVw8",
        "colab": {
          "base_uri": "https://localhost:8080/",
          "height": 483
        },
        "outputId": "1aab906b-bf19-4bfc-c2b6-a61540fffc0c",
        "execution": {
          "iopub.status.busy": "2024-05-28T14:17:35.722572Z",
          "iopub.execute_input": "2024-05-28T14:17:35.72286Z",
          "iopub.status.idle": "2024-05-28T14:17:35.748159Z",
          "shell.execute_reply.started": "2024-05-28T14:17:35.722837Z",
          "shell.execute_reply": "2024-05-28T14:17:35.747138Z"
        },
        "trusted": true
      },
      "execution_count": null,
      "outputs": [
        {
          "execution_count": 6,
          "output_type": "execute_result",
          "data": {
            "text/plain": "   Unnamed: 0                                            Context  \\\n0           0                                                 []   \n1           1  ['What can you tell me about Gary Cherone?', '...   \n2           2  ['What can you tell me about Gary Cherone?', '...   \n3           3  ['What can you tell me about Gary Cherone?', '...   \n4           4  ['What can you tell me about Gary Cherone?', '...   \n\n                                            Question  \\\n0           What can you tell me about Gary Cherone?   \n1                                Did Gary sing well?   \n2  What significant fact can you tell me about Ga...   \n3               What did Cherone do after Van Halen?   \n4  Did they release any albums during that time f...   \n\n                                             Rewrite  \\\n0           What can you tell me about Gary Cherone?   \n1                        Did Gary Cherone sing well?   \n2  What significant fact can you tell me about Ga...   \n3          What did Gary Cherone do after Van Halen?   \n4  Did they release any albums after Gary Cherone...   \n\n                                              Answer  \\\n0  Gary Francis Caine Cherone is an American rock...   \n1  Yes, Gary Cherone is also known for his work a...   \n2  I like that Gary Cherone remained in contact a...   \n3  After his departure from Van Halen, Gary Chero...   \n4  After Gary Cherone, Eddie Van Halen recovered ...   \n\n                                Answer_URL  Conversation_no  Turn_no  \\\n0  https://en.wikipedia.org/wiki/Van_Halen                1        1   \n1  https://en.wikipedia.org/wiki/Van_Halen                1        2   \n2  https://en.wikipedia.org/wiki/Van_Halen                1        3   \n3  https://en.wikipedia.org/wiki/Van_Halen                1        4   \n4  https://en.wikipedia.org/wiki/Van_Halen                1        5   \n\n  Conversation_source  \n0                quac  \n1                quac  \n2                quac  \n3                quac  \n4                quac  ",
            "text/html": "<div>\n<style scoped>\n    .dataframe tbody tr th:only-of-type {\n        vertical-align: middle;\n    }\n\n    .dataframe tbody tr th {\n        vertical-align: top;\n    }\n\n    .dataframe thead th {\n        text-align: right;\n    }\n</style>\n<table border=\"1\" class=\"dataframe\">\n  <thead>\n    <tr style=\"text-align: right;\">\n      <th></th>\n      <th>Unnamed: 0</th>\n      <th>Context</th>\n      <th>Question</th>\n      <th>Rewrite</th>\n      <th>Answer</th>\n      <th>Answer_URL</th>\n      <th>Conversation_no</th>\n      <th>Turn_no</th>\n      <th>Conversation_source</th>\n    </tr>\n  </thead>\n  <tbody>\n    <tr>\n      <th>0</th>\n      <td>0</td>\n      <td>[]</td>\n      <td>What can you tell me about Gary Cherone?</td>\n      <td>What can you tell me about Gary Cherone?</td>\n      <td>Gary Francis Caine Cherone is an American rock...</td>\n      <td>https://en.wikipedia.org/wiki/Van_Halen</td>\n      <td>1</td>\n      <td>1</td>\n      <td>quac</td>\n    </tr>\n    <tr>\n      <th>1</th>\n      <td>1</td>\n      <td>['What can you tell me about Gary Cherone?', '...</td>\n      <td>Did Gary sing well?</td>\n      <td>Did Gary Cherone sing well?</td>\n      <td>Yes, Gary Cherone is also known for his work a...</td>\n      <td>https://en.wikipedia.org/wiki/Van_Halen</td>\n      <td>1</td>\n      <td>2</td>\n      <td>quac</td>\n    </tr>\n    <tr>\n      <th>2</th>\n      <td>2</td>\n      <td>['What can you tell me about Gary Cherone?', '...</td>\n      <td>What significant fact can you tell me about Ga...</td>\n      <td>What significant fact can you tell me about Ga...</td>\n      <td>I like that Gary Cherone remained in contact a...</td>\n      <td>https://en.wikipedia.org/wiki/Van_Halen</td>\n      <td>1</td>\n      <td>3</td>\n      <td>quac</td>\n    </tr>\n    <tr>\n      <th>3</th>\n      <td>3</td>\n      <td>['What can you tell me about Gary Cherone?', '...</td>\n      <td>What did Cherone do after Van Halen?</td>\n      <td>What did Gary Cherone do after Van Halen?</td>\n      <td>After his departure from Van Halen, Gary Chero...</td>\n      <td>https://en.wikipedia.org/wiki/Van_Halen</td>\n      <td>1</td>\n      <td>4</td>\n      <td>quac</td>\n    </tr>\n    <tr>\n      <th>4</th>\n      <td>4</td>\n      <td>['What can you tell me about Gary Cherone?', '...</td>\n      <td>Did they release any albums during that time f...</td>\n      <td>Did they release any albums after Gary Cherone...</td>\n      <td>After Gary Cherone, Eddie Van Halen recovered ...</td>\n      <td>https://en.wikipedia.org/wiki/Van_Halen</td>\n      <td>1</td>\n      <td>5</td>\n      <td>quac</td>\n    </tr>\n  </tbody>\n</table>\n</div>"
          },
          "metadata": {}
        }
      ]
    },
    {
      "cell_type": "code",
      "source": [
        "df=df.drop(columns=[\"Unnamed: 0\",\"Context\",\"Answer_URL\",\"Turn_no\",\"Conversation_source\"])"
      ],
      "metadata": {
        "id": "M54dN3slvbtx",
        "execution": {
          "iopub.status.busy": "2024-05-28T14:17:35.749578Z",
          "iopub.execute_input": "2024-05-28T14:17:35.750234Z",
          "iopub.status.idle": "2024-05-28T14:17:35.766048Z",
          "shell.execute_reply.started": "2024-05-28T14:17:35.750199Z",
          "shell.execute_reply": "2024-05-28T14:17:35.765062Z"
        },
        "trusted": true
      },
      "execution_count": null,
      "outputs": []
    },
    {
      "cell_type": "code",
      "source": [
        "df"
      ],
      "metadata": {
        "id": "FVHJg_D5v3f7",
        "colab": {
          "base_uri": "https://localhost:8080/",
          "height": 423
        },
        "outputId": "eb71502c-2e5d-4779-d442-b555572c6362",
        "execution": {
          "iopub.status.busy": "2024-05-28T14:17:35.767186Z",
          "iopub.execute_input": "2024-05-28T14:17:35.767499Z",
          "iopub.status.idle": "2024-05-28T14:17:35.782176Z",
          "shell.execute_reply.started": "2024-05-28T14:17:35.767464Z",
          "shell.execute_reply": "2024-05-28T14:17:35.781155Z"
        },
        "trusted": true
      },
      "execution_count": null,
      "outputs": [
        {
          "execution_count": 8,
          "output_type": "execute_result",
          "data": {
            "text/plain": "                                                Question  \\\n0               What can you tell me about Gary Cherone?   \n1                                    Did Gary sing well?   \n2      What significant fact can you tell me about Ga...   \n3                   What did Cherone do after Van Halen?   \n4      Did they release any albums during that time f...   \n...                                                  ...   \n63496             Where does Call of the Dead take place   \n63497                                  What is the theme   \n63498                                  What is the genre   \n63499                            Who plays the main role   \n63500                                  Who is the author   \n\n                                                 Rewrite  \\\n0               What can you tell me about Gary Cherone?   \n1                            Did Gary Cherone sing well?   \n2      What significant fact can you tell me about Ga...   \n3              What did Gary Cherone do after Van Halen?   \n4      Did they release any albums after Gary Cherone...   \n...                                                  ...   \n63496             Where does Call of the Dead take place   \n63497                   What is Call ForThe Dead's theme   \n63498             What is the genre of Call For The Dead   \n63499       Who plays the main role in Call For The Dead   \n63500             Who is the author of Call For The Dead   \n\n                                                  Answer  Conversation_no  \n0      Gary Francis Caine Cherone is an American rock...                1  \n1      Yes, Gary Cherone is also known for his work a...                1  \n2      I like that Gary Cherone remained in contact a...                1  \n3      After his departure from Van Halen, Gary Chero...                1  \n4      After Gary Cherone, Eddie Van Halen recovered ...                1  \n...                                                  ...              ...  \n63496  It takes place in a desolate area of the Siber...            10823  \n63497  The players are once again are tasked with sur...            10823  \n63498                     The genre is crime, spy novel.            10823  \n63499  Simon Russell Beale plays the main role ij Cal...            10823  \n63500  David John Moore Cornwell (born 19 October 193...            10823  \n\n[63501 rows x 4 columns]",
            "text/html": "<div>\n<style scoped>\n    .dataframe tbody tr th:only-of-type {\n        vertical-align: middle;\n    }\n\n    .dataframe tbody tr th {\n        vertical-align: top;\n    }\n\n    .dataframe thead th {\n        text-align: right;\n    }\n</style>\n<table border=\"1\" class=\"dataframe\">\n  <thead>\n    <tr style=\"text-align: right;\">\n      <th></th>\n      <th>Question</th>\n      <th>Rewrite</th>\n      <th>Answer</th>\n      <th>Conversation_no</th>\n    </tr>\n  </thead>\n  <tbody>\n    <tr>\n      <th>0</th>\n      <td>What can you tell me about Gary Cherone?</td>\n      <td>What can you tell me about Gary Cherone?</td>\n      <td>Gary Francis Caine Cherone is an American rock...</td>\n      <td>1</td>\n    </tr>\n    <tr>\n      <th>1</th>\n      <td>Did Gary sing well?</td>\n      <td>Did Gary Cherone sing well?</td>\n      <td>Yes, Gary Cherone is also known for his work a...</td>\n      <td>1</td>\n    </tr>\n    <tr>\n      <th>2</th>\n      <td>What significant fact can you tell me about Ga...</td>\n      <td>What significant fact can you tell me about Ga...</td>\n      <td>I like that Gary Cherone remained in contact a...</td>\n      <td>1</td>\n    </tr>\n    <tr>\n      <th>3</th>\n      <td>What did Cherone do after Van Halen?</td>\n      <td>What did Gary Cherone do after Van Halen?</td>\n      <td>After his departure from Van Halen, Gary Chero...</td>\n      <td>1</td>\n    </tr>\n    <tr>\n      <th>4</th>\n      <td>Did they release any albums during that time f...</td>\n      <td>Did they release any albums after Gary Cherone...</td>\n      <td>After Gary Cherone, Eddie Van Halen recovered ...</td>\n      <td>1</td>\n    </tr>\n    <tr>\n      <th>...</th>\n      <td>...</td>\n      <td>...</td>\n      <td>...</td>\n      <td>...</td>\n    </tr>\n    <tr>\n      <th>63496</th>\n      <td>Where does Call of the Dead take place</td>\n      <td>Where does Call of the Dead take place</td>\n      <td>It takes place in a desolate area of the Siber...</td>\n      <td>10823</td>\n    </tr>\n    <tr>\n      <th>63497</th>\n      <td>What is the theme</td>\n      <td>What is Call ForThe Dead's theme</td>\n      <td>The players are once again are tasked with sur...</td>\n      <td>10823</td>\n    </tr>\n    <tr>\n      <th>63498</th>\n      <td>What is the genre</td>\n      <td>What is the genre of Call For The Dead</td>\n      <td>The genre is crime, spy novel.</td>\n      <td>10823</td>\n    </tr>\n    <tr>\n      <th>63499</th>\n      <td>Who plays the main role</td>\n      <td>Who plays the main role in Call For The Dead</td>\n      <td>Simon Russell Beale plays the main role ij Cal...</td>\n      <td>10823</td>\n    </tr>\n    <tr>\n      <th>63500</th>\n      <td>Who is the author</td>\n      <td>Who is the author of Call For The Dead</td>\n      <td>David John Moore Cornwell (born 19 October 193...</td>\n      <td>10823</td>\n    </tr>\n  </tbody>\n</table>\n<p>63501 rows × 4 columns</p>\n</div>"
          },
          "metadata": {}
        }
      ]
    },
    {
      "cell_type": "code",
      "source": [
        "list1=[]\n",
        "dict1={}\n",
        "for index,rows in df.iterrows():\n",
        "    id=rows[\"Conversation_no\"]\n",
        "    question=rows[\"Question\"]\n",
        "    rewrite=rows[\"Rewrite\"]\n",
        "    answer=rows['Answer']\n",
        "\n",
        "    if id not in dict1:\n",
        "        dict1[id]=\"<s>\"\n",
        "        temp_str1=dict1[id]+f'''\n",
        "        <INST>Question:{question}</INST>\n",
        "        Updated Question:{rewrite}\n",
        "        Answer:{answer}\\n</s>'''\n",
        "        list1.append(temp_str1)\n",
        "\n",
        "        temp_str2=f'''\n",
        "        Q:{question}\n",
        "        UQ:{rewrite}\n",
        "        A:{answer}'''\n",
        "        dict1[id]=dict1[id]+temp_str2\n",
        "\n",
        "    else:\n",
        "        temp_str1=dict1[id]+f'''\n",
        "\n",
        "        <INST>Question:{question}</INST>\n",
        "        Updated Question:{rewrite}\n",
        "        Answer:{answer}\\n</s>'''\n",
        "        list1.append(temp_str1)\n",
        "\n",
        "        temp_str2=f'''\n",
        "        Q:{question}\n",
        "        UQ:{rewrite}\n",
        "        A:{answer}'''\n",
        "        dict1[id]=dict1[id]+temp_str2\n",
        "\n",
        "\n",
        "\n",
        "print(list1[4])"
      ],
      "metadata": {
        "id": "XHWKk8yJkjXP",
        "execution": {
          "iopub.status.busy": "2024-05-28T14:17:35.783284Z",
          "iopub.execute_input": "2024-05-28T14:17:35.783636Z",
          "iopub.status.idle": "2024-05-28T14:17:40.606943Z",
          "shell.execute_reply.started": "2024-05-28T14:17:35.783603Z",
          "shell.execute_reply": "2024-05-28T14:17:40.605928Z"
        },
        "trusted": true,
        "outputId": "b07e37e2-e2f0-44e0-ed7b-afa0cda63300"
      },
      "execution_count": null,
      "outputs": [
        {
          "name": "stdout",
          "text": "<s>\n        Q:What can you tell me about Gary Cherone?\n        UQ:What can you tell me about Gary Cherone?\n        A:Gary Francis Caine Cherone is an American rock singer and songwriter, known for his work as the lead vocalist of Extreme and for his short stint for Van Halen.\n        Q:Did Gary sing well?\n        UQ:Did Gary Cherone sing well?\n        A:Yes, Gary Cherone is also known for his work as the lead vocalist of the Boston rock group Extreme.\n        Q:What significant fact can you tell me about Gary that you liked?\n        UQ:What significant fact can you tell me about Gary Cherone that you liked?\n        A:I like that Gary Cherone remained in contact and on good terms with Van Halen.\n        Q:What did Cherone do after Van Halen?\n        UQ:What did Gary Cherone do after Van Halen?\n        A:After his departure from Van Halen, Gary Cherone returned to Boston and put together a new project, Tribe of Judah.\n    \n        <INST>Question:Did they release any albums during that time frame?</INST>\n        Updated Question:Did they release any albums after Gary Cherone left?\n        Answer:After Gary Cherone, Eddie Van Halen recovered from his hip surgery in November 1999, and no official statements were made by Van Halen and no music was released.\n</s>\n",
          "output_type": "stream"
        }
      ]
    },
    {
      "cell_type": "code",
      "source": [
        "df_list=list1[0:1000]\n",
        "temp=[]\n",
        "for i in df_list:\n",
        "  temp.append({\"text\":i})"
      ],
      "metadata": {
        "id": "qeWHdAtGx3Bh",
        "execution": {
          "iopub.status.busy": "2024-05-28T14:17:40.610408Z",
          "iopub.execute_input": "2024-05-28T14:17:40.610711Z",
          "iopub.status.idle": "2024-05-28T14:17:40.618307Z",
          "shell.execute_reply.started": "2024-05-28T14:17:40.610686Z",
          "shell.execute_reply": "2024-05-28T14:17:40.61725Z"
        },
        "trusted": true
      },
      "execution_count": null,
      "outputs": []
    },
    {
      "cell_type": "code",
      "source": [
        "temp[5]"
      ],
      "metadata": {
        "id": "BQKO39B41Uma",
        "colab": {
          "base_uri": "https://localhost:8080/"
        },
        "outputId": "416c3517-c3e0-4820-ae8c-f0988d404aae",
        "execution": {
          "iopub.status.busy": "2024-05-28T14:17:40.619511Z",
          "iopub.execute_input": "2024-05-28T14:17:40.619792Z",
          "iopub.status.idle": "2024-05-28T14:17:40.632739Z",
          "shell.execute_reply.started": "2024-05-28T14:17:40.619768Z",
          "shell.execute_reply": "2024-05-28T14:17:40.631732Z"
        },
        "trusted": true
      },
      "execution_count": null,
      "outputs": [
        {
          "execution_count": 11,
          "output_type": "execute_result",
          "data": {
            "text/plain": "{'text': \"<s>\\n        Q:What can you tell me about Gary Cherone?\\n        UQ:What can you tell me about Gary Cherone?\\n        A:Gary Francis Caine Cherone is an American rock singer and songwriter, known for his work as the lead vocalist of Extreme and for his short stint for Van Halen.\\n        Q:Did Gary sing well?\\n        UQ:Did Gary Cherone sing well?\\n        A:Yes, Gary Cherone is also known for his work as the lead vocalist of the Boston rock group Extreme.\\n        Q:What significant fact can you tell me about Gary that you liked?\\n        UQ:What significant fact can you tell me about Gary Cherone that you liked?\\n        A:I like that Gary Cherone remained in contact and on good terms with Van Halen.\\n        Q:What did Cherone do after Van Halen?\\n        UQ:What did Gary Cherone do after Van Halen?\\n        A:After his departure from Van Halen, Gary Cherone returned to Boston and put together a new project, Tribe of Judah.\\n        Q:Did they release any albums during that time frame?\\n        UQ:Did they release any albums after Gary Cherone left?\\n        A:After Gary Cherone, Eddie Van Halen recovered from his hip surgery in November 1999, and no official statements were made by Van Halen and no music was released.\\n    \\n        <INST>Question:What are some other interesting aspects of the article?</INST>\\n        Updated Question:What are some other interesting aspects of the article?\\n        Answer:During that era, a single taken from 1988's OU812, When It's Love, reached the Top Five, peaking at No. 5. In addition, Van Halen was nominated for two Grammy Awards.\\n</s>\"}"
          },
          "metadata": {}
        }
      ]
    },
    {
      "cell_type": "code",
      "source": [
        "lora_r = 64\n",
        "lora_alpha = 16\n",
        "lora_dropout = 0.1\n",
        "\n",
        "use_4bit = True\n",
        "bnb_4bit_compute_dtype = \"float16\"\n",
        "bnb_4bit_quant_type = \"nf4\"\n",
        "use_nested_quant = False\n",
        "\n",
        "output_dir = \"./results\"\n",
        "num_train_epochs = 1\n",
        "fp16 = False\n",
        "bf16 = False\n",
        "per_device_train_batch_size = 4\n",
        "per_device_eval_batch_size = 4\n",
        "gradient_accumulation_steps = 1\n",
        "gradient_checkpointing = True\n",
        "max_grad_norm = 0.3\n",
        "learning_rate = 2e-4\n",
        "weight_decay = 0.001\n",
        "optim = \"paged_adamw_32bit\"\n",
        "lr_scheduler_type = \"cosine\"\n",
        "max_steps = -1\n",
        "warmup_ratio = 0.03\n",
        "group_by_length = True\n",
        "save_steps = 0\n",
        "logging_steps = 25\n",
        "max_seq_length = None\n",
        "packing = False\n",
        "device_map = {\"\": 0}"
      ],
      "metadata": {
        "id": "ib_We3NLtj2E",
        "execution": {
          "iopub.status.busy": "2024-05-28T14:17:40.63416Z",
          "iopub.execute_input": "2024-05-28T14:17:40.635034Z",
          "iopub.status.idle": "2024-05-28T14:17:40.644649Z",
          "shell.execute_reply.started": "2024-05-28T14:17:40.635006Z",
          "shell.execute_reply": "2024-05-28T14:17:40.643613Z"
        },
        "trusted": true
      },
      "execution_count": null,
      "outputs": []
    },
    {
      "cell_type": "code",
      "source": [
        "from datasets import Dataset\n",
        "dataset=Dataset.from_list(temp)\n",
        "dataset"
      ],
      "metadata": {
        "id": "knPhhYSk0t8m",
        "colab": {
          "base_uri": "https://localhost:8080/"
        },
        "outputId": "2b859c70-32bf-4a7d-866e-f23b47d0a7ec",
        "execution": {
          "iopub.status.busy": "2024-05-28T14:17:40.646107Z",
          "iopub.execute_input": "2024-05-28T14:17:40.646868Z",
          "iopub.status.idle": "2024-05-28T14:17:40.694466Z",
          "shell.execute_reply.started": "2024-05-28T14:17:40.646798Z",
          "shell.execute_reply": "2024-05-28T14:17:40.693498Z"
        },
        "trusted": true
      },
      "execution_count": null,
      "outputs": [
        {
          "execution_count": 13,
          "output_type": "execute_result",
          "data": {
            "text/plain": "Dataset({\n    features: ['text'],\n    num_rows: 1000\n})"
          },
          "metadata": {}
        }
      ]
    },
    {
      "cell_type": "code",
      "source": [
        "print(dataset['text'][10])"
      ],
      "metadata": {
        "execution": {
          "iopub.status.busy": "2024-05-28T14:17:40.695815Z",
          "iopub.execute_input": "2024-05-28T14:17:40.69613Z",
          "iopub.status.idle": "2024-05-28T14:17:40.707799Z",
          "shell.execute_reply.started": "2024-05-28T14:17:40.696104Z",
          "shell.execute_reply": "2024-05-28T14:17:40.706683Z"
        },
        "trusted": true,
        "id": "up3Hz4wYMEVz",
        "outputId": "fbf03e21-06c4-40fd-85f6-52d89ebe9d5f"
      },
      "execution_count": null,
      "outputs": [
        {
          "name": "stdout",
          "text": "<s>\n        Q:How did Van Halen reunite with Roth?\n        UQ:How did Van Halen reunite with David Lee Roth?\n        A:David Lee Roth called Eddie Van Halen to discuss what tracks would be included on a planned Van Halen compilation. Shortly afterwards, Roth re-entered the studio with the band.\n        Q:Did Roth re-join the band?\n        UQ:Did David Lee Roth re-join the band?\n        A:Van Halen's appearance fueled reunion speculation. But several weeks after the awards show, it was discovered that David Lee Roth was out of Van Halen again.\n        Q:Why was it only temporary?\n        UQ:Why was David Lee Roth's renion only temporary?\n        A:David Lee Roth released a statement in which he stated that he was an unwitting participant in a publicity stunt by manager Ray Danniels.\n        Q:Did they release any songs during the time they were reunited?\n        UQ:Did Van Halen release any songs during the time they were reunited?\n        A:Two songs from those reunion sessions were added to the band's Best Of – Volume I album and released as singles to promote it.\n    \n        <INST>Question:Are there any other interesting aspects about this article?</INST>\n        Updated Question:Are there any other interesting aspects about this article?\n        Answer:On September 30, 2019, David Lee Roth expressed uncertainty towards the band's future, stating I think Van Halen is finished. However, no formal announcement of a disbandment has been made.\n</s>\n",
          "output_type": "stream"
        }
      ]
    },
    {
      "cell_type": "code",
      "source": [
        "compute_dtype = getattr(torch, bnb_4bit_compute_dtype)\n",
        "\n",
        "bnb_config = BitsAndBytesConfig(\n",
        "    load_in_4bit=use_4bit,\n",
        "    bnb_4bit_quant_type=bnb_4bit_quant_type,\n",
        "    bnb_4bit_compute_dtype=compute_dtype,\n",
        "    bnb_4bit_use_double_quant=use_nested_quant,\n",
        ")\n",
        "\n",
        "\n",
        "if compute_dtype == torch.float16 and use_4bit:\n",
        "    major, _ = torch.cuda.get_device_capability()\n",
        "    if major >= 8:\n",
        "        print(\"=\" * 80)\n",
        "        print(\"Your GPU supports bfloat16: accelerate training with bf16=True\")\n",
        "        print(\"=\" * 80)\n",
        "\n",
        "\n",
        "model = AutoModelForCausalLM.from_pretrained(\n",
        "    model_name,\n",
        "    quantization_config=bnb_config,\n",
        "    device_map=device_map\n",
        ")\n",
        "model.config.use_cache = False\n",
        "model.config.pretraining_tp = 1\n",
        "\n",
        "\n",
        "tokenizer = AutoTokenizer.from_pretrained(model_name, trust_remote_code=True)\n",
        "tokenizer.pad_token = tokenizer.eos_token\n",
        "tokenizer.padding_side = \"right\"\n",
        "peft_config = LoraConfig(\n",
        "    lora_alpha=lora_alpha,\n",
        "    lora_dropout=lora_dropout,\n",
        "    r=lora_r,\n",
        "    bias=\"none\",\n",
        "    task_type=\"CAUSAL_LM\",\n",
        ")\n"
      ],
      "metadata": {
        "id": "OJXpOgBFuSrc",
        "colab": {
          "base_uri": "https://localhost:8080/",
          "height": 104,
          "referenced_widgets": [
            "0061f3f2d72f42c88e3c2e6acdb9f2e7",
            "9a5190c29ad545a9bf87de3c9e6bf17f",
            "1a8ef02ef64544e89a2860fcf2a036a1",
            "e05bb6393bd745b2b35ab693a3bbd1a4",
            "aca72f8ec5b644b4bc5f6b7d2a46251d",
            "a99de9b44f8b4d11963b639e884d5169",
            "4283db58af32414fb0718fb7311b4c44",
            "bed7532e6aa84bbeb1093894bb0e2b45",
            "c30c6ea7f49e460b921bae2ec2f3ef70",
            "ddb327af16114daa8782f32133750029",
            "1826c43170a74b1facdf6a06ca07723c",
            "ff00b8e2bfee48ae817b70d289876954",
            "f7174336800249edbf68c15dcedf8e8b",
            "a848e5ce3e7544f384cce8a598c39f0f",
            "7c9a1b33a09e44f4a79b2ef9af8689bb",
            "5c046648e31741a9b5188bad97959dab",
            "6555ad7442fb49f88eee53a8c96c8fc7",
            "554cedaec7524fb5b7dd9561dd830cd0",
            "b6f2e90439cc4806b8fb3a4d0d956a54",
            "9dbf1ae0a3ce48398f53f8d87b9e59e6",
            "d05f39f9f97c4e73a6bb2794775e0e6d",
            "e794d60071e6414aa3430b2eb4bd3e3f",
            "4fed1d99170b4e4791af8c0e60ed23e9"
          ]
        },
        "outputId": "5f40f917-9410-4240-8fb0-1c7a456bf377",
        "execution": {
          "iopub.status.busy": "2024-05-28T14:17:40.70909Z",
          "iopub.execute_input": "2024-05-28T14:17:40.709451Z",
          "iopub.status.idle": "2024-05-28T14:19:29.752651Z",
          "shell.execute_reply.started": "2024-05-28T14:17:40.709413Z",
          "shell.execute_reply": "2024-05-28T14:19:29.751784Z"
        },
        "trusted": true
      },
      "execution_count": null,
      "outputs": [
        {
          "output_type": "display_data",
          "data": {
            "text/plain": "config.json:   0%|          | 0.00/583 [00:00<?, ?B/s]",
            "application/vnd.jupyter.widget-view+json": {
              "version_major": 2,
              "version_minor": 0,
              "model_id": "ff00b8e2bfee48ae817b70d289876954"
            }
          },
          "metadata": {}
        },
        {
          "output_type": "display_data",
          "data": {
            "text/plain": "model.safetensors.index.json:   0%|          | 0.00/26.8k [00:00<?, ?B/s]",
            "application/vnd.jupyter.widget-view+json": {
              "version_major": 2,
              "version_minor": 0,
              "model_id": "f7174336800249edbf68c15dcedf8e8b"
            }
          },
          "metadata": {}
        },
        {
          "output_type": "display_data",
          "data": {
            "text/plain": "Downloading shards:   0%|          | 0/2 [00:00<?, ?it/s]",
            "application/vnd.jupyter.widget-view+json": {
              "version_major": 2,
              "version_minor": 0,
              "model_id": "a848e5ce3e7544f384cce8a598c39f0f"
            }
          },
          "metadata": {}
        },
        {
          "output_type": "display_data",
          "data": {
            "text/plain": "model-00001-of-00002.safetensors:   0%|          | 0.00/9.98G [00:00<?, ?B/s]",
            "application/vnd.jupyter.widget-view+json": {
              "version_major": 2,
              "version_minor": 0,
              "model_id": "7c9a1b33a09e44f4a79b2ef9af8689bb"
            }
          },
          "metadata": {}
        },
        {
          "output_type": "display_data",
          "data": {
            "text/plain": "model-00002-of-00002.safetensors:   0%|          | 0.00/3.50G [00:00<?, ?B/s]",
            "application/vnd.jupyter.widget-view+json": {
              "version_major": 2,
              "version_minor": 0,
              "model_id": "5c046648e31741a9b5188bad97959dab"
            }
          },
          "metadata": {}
        },
        {
          "output_type": "display_data",
          "data": {
            "text/plain": "Loading checkpoint shards:   0%|          | 0/2 [00:00<?, ?it/s]",
            "application/vnd.jupyter.widget-view+json": {
              "version_major": 2,
              "version_minor": 0,
              "model_id": "6555ad7442fb49f88eee53a8c96c8fc7"
            }
          },
          "metadata": {}
        },
        {
          "output_type": "display_data",
          "data": {
            "text/plain": "generation_config.json:   0%|          | 0.00/179 [00:00<?, ?B/s]",
            "application/vnd.jupyter.widget-view+json": {
              "version_major": 2,
              "version_minor": 0,
              "model_id": "554cedaec7524fb5b7dd9561dd830cd0"
            }
          },
          "metadata": {}
        },
        {
          "output_type": "display_data",
          "data": {
            "text/plain": "tokenizer_config.json:   0%|          | 0.00/746 [00:00<?, ?B/s]",
            "application/vnd.jupyter.widget-view+json": {
              "version_major": 2,
              "version_minor": 0,
              "model_id": "b6f2e90439cc4806b8fb3a4d0d956a54"
            }
          },
          "metadata": {}
        },
        {
          "output_type": "display_data",
          "data": {
            "text/plain": "tokenizer.model:   0%|          | 0.00/500k [00:00<?, ?B/s]",
            "application/vnd.jupyter.widget-view+json": {
              "version_major": 2,
              "version_minor": 0,
              "model_id": "9dbf1ae0a3ce48398f53f8d87b9e59e6"
            }
          },
          "metadata": {}
        },
        {
          "output_type": "display_data",
          "data": {
            "text/plain": "tokenizer.json:   0%|          | 0.00/1.84M [00:00<?, ?B/s]",
            "application/vnd.jupyter.widget-view+json": {
              "version_major": 2,
              "version_minor": 0,
              "model_id": "d05f39f9f97c4e73a6bb2794775e0e6d"
            }
          },
          "metadata": {}
        },
        {
          "output_type": "display_data",
          "data": {
            "text/plain": "added_tokens.json:   0%|          | 0.00/21.0 [00:00<?, ?B/s]",
            "application/vnd.jupyter.widget-view+json": {
              "version_major": 2,
              "version_minor": 0,
              "model_id": "e794d60071e6414aa3430b2eb4bd3e3f"
            }
          },
          "metadata": {}
        },
        {
          "output_type": "display_data",
          "data": {
            "text/plain": "special_tokens_map.json:   0%|          | 0.00/435 [00:00<?, ?B/s]",
            "application/vnd.jupyter.widget-view+json": {
              "version_major": 2,
              "version_minor": 0,
              "model_id": "4fed1d99170b4e4791af8c0e60ed23e9"
            }
          },
          "metadata": {}
        }
      ]
    },
    {
      "cell_type": "code",
      "source": [
        "# Set training parameters\n",
        "training_arguments = TrainingArguments(\n",
        "    output_dir=output_dir,\n",
        "    num_train_epochs=num_train_epochs,\n",
        "    per_device_train_batch_size=per_device_train_batch_size,\n",
        "    gradient_accumulation_steps=gradient_accumulation_steps,\n",
        "    optim=optim,\n",
        "    save_steps=save_steps,\n",
        "    logging_steps=logging_steps,\n",
        "    learning_rate=learning_rate,\n",
        "    weight_decay=weight_decay,\n",
        "    fp16=fp16,\n",
        "    bf16=bf16,\n",
        "    max_grad_norm=max_grad_norm,\n",
        "    max_steps=max_steps,\n",
        "    warmup_ratio=warmup_ratio,\n",
        "    group_by_length=group_by_length,\n",
        "    lr_scheduler_type=lr_scheduler_type,\n",
        "    report_to=\"tensorboard\"\n",
        ")\n",
        "\n",
        "# Set supervised fine-tuning parameters\n",
        "trainer = SFTTrainer(\n",
        "    model=model,\n",
        "    train_dataset=dataset,\n",
        "    peft_config=peft_config,\n",
        "    dataset_text_field=\"text\",\n",
        "    max_seq_length=max_seq_length,\n",
        "    tokenizer=tokenizer,\n",
        "    args=training_arguments,\n",
        "    packing=packing,\n",
        ")\n",
        "\n",
        "# Train model\n",
        "trainer.train()\n",
        "\n",
        "# Save trained model\n",
        "trainer.model.save_pretrained(new_model)"
      ],
      "metadata": {
        "id": "qIfR-MWW5nit",
        "colab": {
          "base_uri": "https://localhost:8080/",
          "height": 499,
          "referenced_widgets": [
            "dd2606cda51341c5b9abdeeb81f5b05e",
            "2c44f5c2158343a58e4a93fe35985b37",
            "1d558b4e0f3441b6950d002419eac5a0",
            "b2304ed8351848b1b41570a2c4e0d182",
            "43323b14c21d40bcbf93cd1a73c5880c",
            "d0c0af2385ff4644b08c65f687125f53",
            "77eae96ebc3e490ba6410876749c8a1d",
            "db9216a0f7a34a608a6e6047b916cab2",
            "2cdabc92dbe74733a8c1427b7ed677ca",
            "23655ed1704d4a08a711aa6e46a5fc0b",
            "29f8568bdcd847629d1f948fefab04ba",
            "3420d4e67f1d41778bddc838c5e5c1b7"
          ]
        },
        "outputId": "a003f420-2014-4d2d-e9d5-50afac97716e",
        "execution": {
          "iopub.status.busy": "2024-05-28T14:19:29.754134Z",
          "iopub.execute_input": "2024-05-28T14:19:29.754518Z",
          "iopub.status.idle": "2024-05-28T14:40:48.33946Z",
          "shell.execute_reply.started": "2024-05-28T14:19:29.754483Z",
          "shell.execute_reply": "2024-05-28T14:40:48.338387Z"
        },
        "trusted": true
      },
      "execution_count": null,
      "outputs": [
        {
          "name": "stderr",
          "text": "/opt/conda/lib/python3.10/site-packages/peft/utils/other.py:102: FutureWarning: prepare_model_for_int8_training is deprecated and will be removed in a future version. Use prepare_model_for_kbit_training instead.\n  warnings.warn(\n/opt/conda/lib/python3.10/site-packages/trl/trainer/sft_trainer.py:159: UserWarning: You didn't pass a `max_seq_length` argument to the SFTTrainer, this will default to 1024\n  warnings.warn(\n",
          "output_type": "stream"
        },
        {
          "output_type": "display_data",
          "data": {
            "text/plain": "Map:   0%|          | 0/1000 [00:00<?, ? examples/s]",
            "application/vnd.jupyter.widget-view+json": {
              "version_major": 2,
              "version_minor": 0,
              "model_id": "3420d4e67f1d41778bddc838c5e5c1b7"
            }
          },
          "metadata": {}
        },
        {
          "name": "stderr",
          "text": "You're using a LlamaTokenizerFast tokenizer. Please note that with a fast tokenizer, using the `__call__` method is faster than using a method to encode the text followed by a call to the `pad` method to get a padded encoding.\n/opt/conda/lib/python3.10/site-packages/torch/utils/checkpoint.py:429: UserWarning: torch.utils.checkpoint: please pass in use_reentrant=True or use_reentrant=False explicitly. The default value of use_reentrant will be updated to be False in the future. To maintain current behavior, pass use_reentrant=True. It is recommended that you use use_reentrant=False. Refer to docs for more details on the differences between the two variants.\n  warnings.warn(\n/opt/conda/lib/python3.10/site-packages/torch/nn/parallel/_functions.py:68: UserWarning: Was asked to gather along dimension 0, but all input tensors were scalars; will instead unsqueeze and return a vector.\n  warnings.warn('Was asked to gather along dimension 0, but all '\n",
          "output_type": "stream"
        },
        {
          "output_type": "display_data",
          "data": {
            "text/plain": "<IPython.core.display.HTML object>",
            "text/html": "\n    <div>\n      \n      <progress value='125' max='125' style='width:300px; height:20px; vertical-align: middle;'></progress>\n      [125/125 20:38, Epoch 1/1]\n    </div>\n    <table border=\"1\" class=\"dataframe\">\n  <thead>\n <tr style=\"text-align: left;\">\n      <th>Step</th>\n      <th>Training Loss</th>\n    </tr>\n  </thead>\n  <tbody>\n    <tr>\n      <td>25</td>\n      <td>1.450400</td>\n    </tr>\n    <tr>\n      <td>50</td>\n      <td>1.100300</td>\n    </tr>\n    <tr>\n      <td>75</td>\n      <td>1.074000</td>\n    </tr>\n    <tr>\n      <td>100</td>\n      <td>1.019400</td>\n    </tr>\n    <tr>\n      <td>125</td>\n      <td>0.973100</td>\n    </tr>\n  </tbody>\n</table><p>"
          },
          "metadata": {}
        }
      ]
    },
    {
      "cell_type": "code",
      "source": [
        "\n",
        "\n",
        "pipe = pipeline(task=\"text-generation\", model=model, tokenizer=tokenizer, max_length=300)\n",
        "history= \"\"\n",
        "\n",
        "while True:\n",
        "        prompt = input(\">>> \")\n",
        "        while not prompt:\n",
        "            print('Prompt should not be empty!')\n",
        "            prompt = input(\">>> \")\n",
        "\n",
        "        if (len(history)==0):\n",
        "          prompt1=f'''\n",
        "        <s>\n",
        "        <INST>Question:{prompt}</INST>\n",
        "        Updated Question:'''\n",
        "\n",
        "        else:\n",
        "           prompt1=f'''\\n<s>\n",
        "           <INST>Quesion:{prompt}</INST>\\nUpdated Question:'''\n",
        "\n",
        "        result = pipe(history+prompt1)\n",
        "        temp=result[0]['generated_text']\n",
        "        temp=temp.replace('<s>',\"\")\n",
        "        temp=temp.replace('</s>',\"\")\n",
        "        temp=temp.replace('</s',\"\")\n",
        "        temp=temp.replace('<s>\\n',\"\")\n",
        "        temp=temp.replace('</s\\n>',\"\")\n",
        "        temp=temp.replace('<INST>',\"\")\n",
        "        temp=temp.replace('</INST>',\"\")\n",
        "        temp=temp.replace('</question>\\n','')\n",
        "        temp=temp.replace('</answer>\\n','')\n",
        "        temp=temp.replace('Question','Q')\n",
        "        temp=temp.replace('Updated Question','UQ')\n",
        "        temp=temp.replace('Answer','A')\n",
        "        temp=temp.replace('</Q>\\n','')\n",
        "        temp=temp.replace('</A>\\n','')\n",
        "        temp=temp.replace('</Q>','')\n",
        "        temp=temp.replace('</Q','')\n",
        "        temp=temp.replace('</A>','')\n",
        "        temp=temp.replace('\\n\\n','\\n')\n",
        "        temp=temp.replace('</question',\"\")\n",
        "        temp=temp.strip()\n",
        "        print(temp)\n",
        "        history=history+\"\\n\"+temp\n",
        "\n"
      ],
      "metadata": {
        "id": "azhbdzNNVOwn",
        "execution": {
          "iopub.status.busy": "2024-05-28T15:04:57.56012Z",
          "iopub.execute_input": "2024-05-28T15:04:57.560587Z"
        },
        "trusted": true,
        "outputId": "9af498d1-1ddc-45ee-d1dd-85a07c29fc03"
      },
      "execution_count": null,
      "outputs": [
        {
          "output_type": "stream",
          "name": "stdin",
          "text": ">>>  Who is President of USA?\n"
        },
        {
          "name": "stdout",
          "text": "Q:Who is President of USA?\n        Updated Q:Who is the President of the United States?\n        A:Joe Biden\n</\n",
          "output_type": "stream"
        },
        {
          "output_type": "stream",
          "name": "stdin",
          "text": ">>>  When was he born?\n"
        },
        {
          "name": "stdout",
          "text": "Q:Who is President of USA?\n        Updated Q:Who is the President of the United States?\n        A:Joe Biden\n</\n           Quesion:When was he born?\nUpdated Q:When was Joe Biden born?\nA:Joe Biden was born on November 20, 1942, in Scranton, Pennsylvania\n</\n",
          "output_type": "stream"
        },
        {
          "output_type": "stream",
          "name": "stdin",
          "text": ">>>  What is his age?\n"
        },
        {
          "name": "stdout",
          "text": "Q:Who is President of USA?\n        Updated Q:Who is the President of the United States?\n        A:Joe Biden\n</\nQ:Who is President of USA?\n        Updated Q:Who is the President of the United States?\n        A:Joe Biden\n</\n           Quesion:When was he born?\nUpdated Q:When was Joe Biden born?\nA:Joe Biden was born on November 20, 1942, in Scranton, Pennsylvania\n</\n           Quesion:What is his age?\nUpdated Q:What is Joe Biden's age?\nA:Joe Biden is 80 years old\n</\n</\n\n\n\n\n\n\n\n\n</Q\n",
          "output_type": "stream"
        }
      ]
    },
    {
      "cell_type": "code",
      "source": [],
      "metadata": {
        "execution": {
          "iopub.status.busy": "2024-05-28T14:54:26.344985Z",
          "iopub.status.idle": "2024-05-28T14:54:26.345329Z",
          "shell.execute_reply.started": "2024-05-28T14:54:26.345155Z",
          "shell.execute_reply": "2024-05-28T14:54:26.345168Z"
        },
        "trusted": true,
        "id": "wF_6OqG2MEV0"
      },
      "execution_count": null,
      "outputs": []
    },
    {
      "cell_type": "code",
      "source": [],
      "metadata": {
        "execution": {
          "iopub.status.busy": "2024-05-28T14:54:26.34631Z",
          "iopub.status.idle": "2024-05-28T14:54:26.346739Z",
          "shell.execute_reply.started": "2024-05-28T14:54:26.346532Z",
          "shell.execute_reply": "2024-05-28T14:54:26.346551Z"
        },
        "trusted": true,
        "id": "KYrrC8JWMEV0"
      },
      "execution_count": null,
      "outputs": []
    },
    {
      "cell_type": "raw",
      "source": [],
      "metadata": {
        "id": "oZNAs54IMEV0"
      }
    }
  ]
}